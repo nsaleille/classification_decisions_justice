{
 "cells": [
  {
   "cell_type": "markdown",
   "metadata": {},
   "source": [
    "# Classification de décisions de justice\n",
    "\n",
    "Le notebook ci-joint décrit mon approche du problème de classification des décisions de justice. Je l'ai découpé en plusieurs parties :\n",
    "\n",
    "1. Chargement des données\n",
    "2. Feature engeneering\n",
    "3. Classifieur SVM et sélection de modèle\n",
    "4. Idées pour aller plus loin\n",
    "\n",
    "Le principal enjeu sur ce jeu de données proviens des classes CRIM et COM relativement plus difficile à distinguer des classes CIV et SOC. COM est la classe la plus difficile à distinguer de CIV qui est largement sur-représentée. J'ai partiellement corrigé ce biais en ajoutant beaucoup de features propres à ces deux classes.\n",
    "\n",
    "## 1. Chargement des données\n",
    "\n",
    "Pour la création de la base MongoDB voir le script \"create-decisions-db.py\". La base fait à peine plus de 230 mo, i.e. on peut travailler avec les données directement dans la mémoire python. J'imagine que lorsqu'il s'agit de travailler sur le volume total des données de vrais problèmes d'architecture se posent. Vu la nature du problème un cluster Hadoop avec Spark MLLib (qui implémente les SVM) serait probablement une solution appropriée pour bénéficier du traitement paralèlle sur de très gros corpus."
   ]
  },
  {
   "cell_type": "code",
   "execution_count": 1,
   "metadata": {
    "collapsed": true
   },
   "outputs": [],
   "source": [
    "import utils.mongo as um\n",
    "\n",
    "db = um._connect_mongo('decisions', config['host'], config['port'], config['username'], config['password'])\n",
    "corpus = um.read_mongo(db, 'decisions', pandas = True)"
   ]
  },
  {
   "cell_type": "markdown",
   "metadata": {},
   "source": [
    "Le jeu d'entrainement comprend 4 classes de documents (droit civil, commercial, criminel, social). Les classes civil et social sont largement surreprésentées. Un classifieur misant à tous les coups sur le droit civil aurait une précision de 47%."
   ]
  },
  {
   "cell_type": "code",
   "execution_count": 2,
   "metadata": {},
   "outputs": [
    {
     "name": "stdout",
     "output_type": "stream",
     "text": [
      "civ     0.467426\n",
      "soc     0.437960\n",
      "com     0.080899\n",
      "crim    0.013715\n",
      "Name: class, dtype: float64\n"
     ]
    },
    {
     "data": {
      "text/plain": [
       "<matplotlib.axes._subplots.AxesSubplot at 0x114f223d0>"
      ]
     },
     "execution_count": 2,
     "metadata": {},
     "output_type": "execute_result"
    },
    {
     "data": {
      "image/png": "[encoded data removed]",
      "text/plain": [
       "<matplotlib.figure.Figure at 0x114e52910>"
      ]
     },
     "metadata": {},
     "output_type": "display_data"
    }
   ],
   "source": [
    "%matplotlib inline\n",
    "import seaborn\n",
    "print corpus['class'].value_counts() / corpus['class'].value_counts().sum()\n",
    "corpus['class'].value_counts().plot('bar')"
   ]
  },
  {
   "cell_type": "code",
   "execution_count": 3,
   "metadata": {},
   "outputs": [],
   "source": [
    "import random\n",
    "subsample = random.sample(corpus.index, 15000)\n",
    "minibatch = corpus.loc[subsample]"
   ]
  },
  {
   "cell_type": "markdown",
   "metadata": {},
   "source": [
    "## 2. Feature Engeneering\n",
    "\n",
    "Les documents sont au format HTML, en première approche on considère que les balises HTML contiennent peu d'information sur la classe du document et on se focalise sur le contenu textuel. La première étape consiste donc à coder un transformer \"DecisionExtractor\" pour tirer ce contenu correctement. \n",
    "\n",
    "Après un premier modèle je me suis vite aperçu que le principal enjeu à relever pour optimiser les performances est de bien séparer les décisions criminelles des décisions civiles. Je commence donc par me focaliser sur ce corpus en extrayant un grand nombre de features spécifiques à cette classe :\n",
    "\n",
    "- Sélection des 300 ngrams les plus fréquents dans le corpus criminel, $n\\in [1;3]$\n",
    "- Calcul de la matrice TF IDF\n",
    "\n",
    "Ces features sont ajoutés à ceux extraits du corpus total."
   ]
  },
  {
   "cell_type": "code",
   "execution_count": 4,
   "metadata": {},
   "outputs": [],
   "source": [
    "from sklearn.base import TransformerMixin\n",
    "from sklearn.pipeline import Pipeline, FeatureUnion\n",
    "from sklearn.feature_extraction.text import CountVectorizer, TfidfTransformer\n",
    "\n",
    "from nltk.corpus import stopwords\n",
    "\n",
    "from bs4 import BeautifulSoup\n",
    "\n",
    "class DecisionExtractor(TransformerMixin):\n",
    "    def fit(self, X, y=None):\n",
    "        return self\n",
    "    def transform(self, corpus):\n",
    "        return [BeautifulSoup(doc, 'lxml').text for doc in corpus.values]\n",
    "\n",
    "crim_params = {\n",
    "    'ngram_range' : (1,3),\n",
    "    'stop_words' : stopwords.words('french') + ['les'],\n",
    "    \"lowercase\" : True,\n",
    "    'max_features' : 400\n",
    "}\n",
    "\n",
    "crim = corpus.loc[corpus['class'] == 'crim']\n",
    "pipeline_crim = Pipeline([\n",
    "        ('extract_decisions', DecisionExtractor()),\n",
    "        ('vectorizer', CountVectorizer(**crim_params))\n",
    "    ])\n",
    "\n",
    "pipeline_crim.fit_transform(crim.text)\n",
    "crim_vocab = pipeline_crim.steps[1][1].get_feature_names()"
   ]
  },
  {
   "cell_type": "code",
   "execution_count": 5,
   "metadata": {
    "collapsed": true
   },
   "outputs": [],
   "source": [
    "com_params = {\n",
    "    'ngram_range' : (1,3),\n",
    "    'stop_words' : stopwords.words('french') + ['les'],\n",
    "    \"lowercase\" : True,\n",
    "    'max_features' : 800\n",
    "}\n",
    "\n",
    "com = corpus.loc[corpus['class'] == 'com']\n",
    "pipeline_com = Pipeline([\n",
    "        ('extract_decisions', DecisionExtractor()),\n",
    "        ('vectorizer', CountVectorizer(**com_params))\n",
    "    ])\n",
    "\n",
    "pipeline_com.fit_transform(com.text)\n",
    "com_vocab = pipeline_com.steps[1][1].get_feature_names()"
   ]
  },
  {
   "cell_type": "markdown",
   "metadata": {},
   "source": [
    "L'étape suivante consiste à extraire du corpus les ngrams les plus fréquents, à ajouter les features précédents et à calculer les matrices TF-IDF :\n",
    "\n",
    "- Extraction du texte depuis le corps HTML\n",
    "- Passage en lower_case\n",
    "- Filtrage des stopwords\n",
    "- Features : sélection des 300 ngrams les plus fréquents dans le corpus, $n\\in [1;3]$\n",
    "- Union des matrices TF-IDF calculées"
   ]
  },
  {
   "cell_type": "code",
   "execution_count": 6,
   "metadata": {},
   "outputs": [
    {
     "data": {
      "text/plain": [
       "['matrices.pkl']"
      ]
     },
     "execution_count": 6,
     "metadata": {},
     "output_type": "execute_result"
    }
   ],
   "source": [
    "import logging\n",
    "logging.basicConfig(level=logging.INFO, format='%(asctime)s %(levelname)s %(message)s')\n",
    "\n",
    "counts_params = {\n",
    "    'ngram_range' : (1,3),\n",
    "    'stop_words' : stopwords.words('french') + ['les'],\n",
    "    \"lowercase\" : True,\n",
    "    'max_features' : 300\n",
    "}\n",
    "\n",
    "pipeline = Pipeline([\n",
    "        ('extract_decisions', DecisionExtractor()),\n",
    "        ('features', FeatureUnion([\n",
    "                    ('corpus_tfidf', Pipeline([\n",
    "                                ('counts', CountVectorizer(**counts_params)),\n",
    "                                ('tf_idf', TfidfTransformer())\n",
    "                            ])),\n",
    "                    ('crim_tfidf', Pipeline([\n",
    "                                ('counts', CountVectorizer(vocabulary=crim_vocab, **counts_params)),\n",
    "                                ('tf_idf', TfidfTransformer())\n",
    "                            ])),\n",
    "                    ('com_tfidf', Pipeline([\n",
    "                                ('counts', CountVectorizer(vocabulary=com_vocab, **counts_params)),\n",
    "                                ('tf_idf', TfidfTransformer())\n",
    "                            ]))\n",
    "                ]))\n",
    "    ])\n",
    "\n",
    "X = pipeline.fit_transform(corpus.text)\n",
    "y = corpus['class'].values\n",
    "\n",
    "from sklearn.externals import joblib\n",
    "joblib.dump([X, y], 'matrices.pkl')"
   ]
  },
  {
   "cell_type": "markdown",
   "metadata": {},
   "source": [
    "## 3. Classifieur SVM et sélection de modèle\n",
    "\n",
    "Suite à une consultation rapide de la littérature, je me suis lancé dans un modèle SVM. Ces modèles ont la réputation de performer correctement pour la classification de texte :\n",
    "\n",
    "- Ils sont robuste à l'utilisation d'un grand nombre de features : je sélectionne $m = 600$ features dans l'étape précédente, pour un corpus de $n=27998$ documents. D'après la littérature, l'ajout de features est un bon moyen d'augemnter la performance des algos de classification de texte; leur multiplication n'entraine pas spécialement de sur-apprentissage.\n",
    "\n",
    "- La plupart des problèmes de classification de texte sont linéairement séparables (même si ici ce n'est pas exactement le cas, on sépare mieux l'espace avec un noyau RBF).\n",
    "\n",
    "- Les modèles SVM fonctionnent bien avec des matrices de features sparse, ce qui est important pour nous d'un point de vu computationnel.\n",
    "\n",
    "\n",
    "### 3.1 Création des jeux de test et d'entrainement\n",
    "\n",
    "Je prend 70% des données pour l'entrainement, 30% pour le test."
   ]
  },
  {
   "cell_type": "code",
   "execution_count": 7,
   "metadata": {
    "collapsed": true
   },
   "outputs": [],
   "source": [
    "from sklearn.model_selection import train_test_split\n",
    "X_train, X_test, y_train, y_test = train_test_split(X, y, test_size=0.3, random_state=42)"
   ]
  },
  {
   "cell_type": "markdown",
   "metadata": {},
   "source": [
    "### 3.2 Grid Search\n",
    "\n",
    "Il nous reste à déterminer les hyperparamètres optimaux pour la constante $C$ (contrôle sur la largeur de la marge) et le noyau (linéaire, polynomial ou RBF). L'approche la plus simple (et la plus brutale) consiste simplement à lancer un gridsearch grossier pour se faire une meilleure idée des valeurs à retenir. Pour ne pas perdre de temps, je réalise ce travail sur un minibatch avec une 5-fold cross-validation pour un faible nombre de valeurs ($3\\times3\\times5 = 45$ taches d'entrainement)."
   ]
  },
  {
   "cell_type": "code",
   "execution_count": null,
   "metadata": {},
   "outputs": [],
   "source": [
    "from sklearn.svm import SVC\n",
    "from sklearn.model_selection import cross_val_score, GridSearchCV\n",
    "\n",
    "param_grid = [\n",
    "    {'C' : [10, 10**3, 10**6], 'kernel' : ['linear', 'poly', 'rbf']}\n",
    "]\n",
    "\n",
    "svm = SVC(verbose = True)\n",
    "\n",
    "grid_search = GridSearchCV(svm, param_grid, cv=5, verbose = 10)\n",
    "grid_search.fit(X_train, y_train)\n",
    "print 'best params : ' + str(grid_search.best_params_)"
   ]
  },
  {
   "cell_type": "markdown",
   "metadata": {},
   "source": [
    "On utilise donc la meilleure combinaison d'hyper paramètres pour définir le modèle SVM :"
   ]
  },
  {
   "cell_type": "code",
   "execution_count": 8,
   "metadata": {},
   "outputs": [],
   "source": [
    "from sklearn.svm import SVC\n",
    "svm = SVC(C=1000, gamma='auto', kernel='rbf', verbose=True)"
   ]
  },
  {
   "cell_type": "markdown",
   "metadata": {},
   "source": [
    "### 3.3. Cross Validation\n",
    "\n",
    "Maintenant que j'ai trouvé des hyperparamètres relativement satisfaisants, je lance une validation croisée sur le jeu d'entrainement pour m'assurer de la stabilité des résultats lorsque l'on répète l'entrainement avec des jeu de test / validation différents."
   ]
  },
  {
   "cell_type": "code",
   "execution_count": 9,
   "metadata": {},
   "outputs": [
    {
     "name": "stdout",
     "output_type": "stream",
     "text": [
      "[LibSVM][LibSVM][LibSVM]       civ  crim   soc   com  total\n",
      "civ   8804     3    57   270   9134\n",
      "crim     4   255     1     2    262\n",
      "soc     76     1  8517     1   8595\n",
      "com    423     1     9  1174   1607\n",
      "precision moyenne :0.955660727233\n",
      "           civ      crim       soc       com     total\n",
      "civ   0.945955  0.011538  0.006640  0.186593  0.466068\n",
      "crim  0.000430  0.980769  0.000116  0.001382  0.013369\n",
      "soc   0.008166  0.003846  0.992195  0.000691  0.438565\n",
      "com   0.045450  0.003846  0.001048  0.811334  0.081998\n",
      "rappel moyen :0.9567302786\n",
      "           civ      crim       soc       com  total\n",
      "civ   0.963871  0.000328  0.006240  0.029560    1.0\n",
      "crim  0.015267  0.973282  0.003817  0.007634    1.0\n",
      "soc   0.008842  0.000116  0.990925  0.000116    1.0\n",
      "com   0.263223  0.000622  0.005600  0.730554    1.0\n",
      "f1 score : 0.955982452742\n"
     ]
    }
   ],
   "source": [
    "from sklearn.model_selection import cross_val_predict\n",
    "y_train_pred = cross_val_predict(svm, X_train, y_train, cv = 3)\n",
    "\n",
    "import pandas as pd\n",
    "from sklearn.metrics import confusion_matrix\n",
    "\n",
    "labels = ['civ', 'crim', 'soc', 'com']\n",
    "confusion_mat = confusion_matrix(y_train, y_train_pred, labels = labels)\n",
    "confusion = pd.DataFrame(confusion_mat, index = labels, columns = labels)\n",
    "confusion['total'] = confusion.sum(axis = 1)\n",
    "print confusion\n",
    "\n",
    "from sklearn.metrics import precision_score, recall_score, f1_score\n",
    "print 'precision moyenne :' + str(precision_score(y_train, y_train_pred, average='weighted'))\n",
    "print ( confusion / confusion.sum(axis=0))\n",
    "print 'rappel moyen :' + str(recall_score(y_train, y_train_pred, average='weighted'))\n",
    "print ( confusion.T / confusion.total).T\n",
    "print 'f1 score : ' + str(f1_score(y_train, y_train_pred, average='weighted'))"
   ]
  },
  {
   "cell_type": "markdown",
   "metadata": {},
   "source": [
    "La précision moyenne obtenue est de 95.56%, le rappel moyen de 95.67%. Les classes CIV, CRIM et SOC obtiennent toutes les trois une précision supérieure à 94% et un rappel supérieur à 96%. Par contre, les résultats sont moins bons pour la classe COM : la précision est de 81%, le rappel de 73%. Le modèle a globalement du mal à séparer les élements de cette classe de ceux de la classe CIV. Cette classe est pourtant celle sur laquelle j'ai concentré mes efforts (800 features vs 400 pour la classe CRIM, elle aussi sous représentée dans l'échantillon). Avec un peu de feature engeneering supplémentaire, je pense qu'il serait possible de raffiner un peu plus ces performances (qui sont déjà bien plus satisfaisantes que sur mes premiers essais). "
   ]
  },
  {
   "cell_type": "markdown",
   "metadata": {},
   "source": [
    "### 3.4. Performance du modèle sur le jeu de test\n",
    "\n",
    "Dernière étape, j'évalue les résultats du modèle sur le jeu de test."
   ]
  },
  {
   "cell_type": "code",
   "execution_count": 10,
   "metadata": {},
   "outputs": [
    {
     "name": "stdout",
     "output_type": "stream",
     "text": [
      "[LibSVM]       civ  crim   soc  com  total\n",
      "civ   3817     2    25  109   3953\n",
      "crim     3   119     0    0    122\n",
      "soc     19     0  3644    4   3667\n",
      "com    150     0     4  504    658\n",
      "precision moyenne :0.961675499813\n",
      "           civ      crim       soc       com     total\n",
      "civ   0.956881  0.016529  0.006806  0.176661  0.470595\n",
      "crim  0.000752  0.983471  0.000000  0.000000  0.014524\n",
      "soc   0.004763  0.000000  0.992105  0.006483  0.436548\n",
      "com   0.037603  0.000000  0.001089  0.816856  0.078333\n",
      "rappel moyen :0.962380952381\n",
      "           civ      crim       soc       com  total\n",
      "civ   0.965596  0.000506  0.006324  0.027574    1.0\n",
      "crim  0.024590  0.975410  0.000000  0.000000    1.0\n",
      "soc   0.005181  0.000000  0.993728  0.001091    1.0\n",
      "com   0.227964  0.000000  0.006079  0.765957    1.0\n",
      "f1 score : 0.961954295846\n"
     ]
    }
   ],
   "source": [
    "svm.fit(X_train, y_train)\n",
    "y_test_pred = svm.predict(X_test)\n",
    "\n",
    "labels = ['civ', 'crim', 'soc', 'com']\n",
    "confusion_mat = confusion_matrix(y_test, y_test_pred, labels = labels)\n",
    "confusion = pd.DataFrame(confusion_mat, index = labels, columns = labels)\n",
    "confusion['total'] = confusion.sum(axis = 1)\n",
    "print confusion\n",
    "\n",
    "from sklearn.metrics import precision_score, recall_score, f1_score\n",
    "print 'precision moyenne :' + str(precision_score(y_test, y_test_pred, average='weighted'))\n",
    "print ( confusion / confusion.sum(axis=0))\n",
    "print 'rappel moyen :' + str(recall_score(y_test, y_test_pred, average='weighted'))\n",
    "print ( confusion.T / confusion.total).T\n",
    "print 'f1 score : ' + str(f1_score(y_test, y_test_pred, average='weighted'))"
   ]
  },
  {
   "cell_type": "markdown",
   "metadata": {},
   "source": [
    "Ces résultats sur le jeu de test sont en accord avec les performances cross-validées sur le jeu d'entrainement. Elles sont même légèrement supérieures, ce qui peut faire penser qu'il y a quelques outliers dans le jeu d'entrainement (ou bien que l'on a eu de la \"chance\" sur le tirage initial en tirant relativement moins de documets COM que dans le jeu d'entrainement).\n",
    "\n",
    "## 4. Idées pour aller plus loin\n",
    "\n",
    "La performance affichée de ce SVM est assez satisfaisante, faire mieux demandera beaucoup de travail pour des gains marginaux. La principale limite de cette approche est le passage à l'échelle sur de très gros corpus, puisque pour $n$ documents et $m$ features l'entrainement des SVM ont une complexité en $O(n^2 \\times m)$. Le passage à une architecture distribuée et à une implémentation sous Spark MLLib est une solution intéressante face à ce problème.\n",
    "\n",
    "Quelques idées pour raffiner l'approche :\n",
    "\n",
    "- Ajouter des features pour améliorer la performance sur la classe COM.\n",
    "- Optimiser plus finement les hyperparamètres en lançant un GridSearch plus large.\n",
    "- Tester la performance d'autres modèles (réseaux de neurones)."
   ]
  }
 ],
 "metadata": {
  "kernelspec": {
   "display_name": "Python 3",
   "language": "python",
   "name": "python3"
  },
  "language_info": {
   "codemirror_mode": {
    "name": "ipython",
    "version": 2
   },
   "file_extension": ".py",
   "mimetype": "text/x-python",
   "name": "python",
   "nbconvert_exporter": "python",
   "pygments_lexer": "ipython2",
   "version": "2.7.11"
  }
 },
 "nbformat": 4,
 "nbformat_minor": 2
}
